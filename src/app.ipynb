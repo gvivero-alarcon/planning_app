{
 "cells": [
  {
   "cell_type": "code",
   "execution_count": null,
   "id": "a453744c",
   "metadata": {},
   "outputs": [
    {
     "data": {
      "application/vnd.jupyter.widget-view+json": {
       "model_id": "b96f724d47fd42db83ba33e23c3bbbc7",
       "version_major": 2,
       "version_minor": 0
      },
      "text/plain": [
       "Tab(children=(BlockView(children=(VBox(children=(Title(value='IMPORTAR MODELO DE BLOQUES', layout=Layout(margi…"
      ]
     },
     "metadata": {},
     "output_type": "display_data"
    }
   ],
   "source": [
    "# Modelo, vista y controlador de la aplicación:\n",
    "from model.main import MainModel\n",
    "from view.main import MainView\n",
    "from controller.main import MainController\n",
    "\n",
    "\n",
    "model = MainModel()\n",
    "view = MainView()\n",
    "controller = MainController(model, view)"
   ]
  }
 ],
 "metadata": {
  "kernelspec": {
   "display_name": "Python 3",
   "language": "python",
   "name": "python3"
  },
  "language_info": {
   "codemirror_mode": {
    "name": "ipython",
    "version": 3
   },
   "file_extension": ".py",
   "mimetype": "text/x-python",
   "name": "python",
   "nbconvert_exporter": "python",
   "pygments_lexer": "ipython3",
   "version": "3.9.5"
  }
 },
 "nbformat": 4,
 "nbformat_minor": 5
}
